{
 "cells": [
  {
   "cell_type": "markdown",
   "metadata": {},
   "source": [
    "# Math para ML: Semana 2\n",
    "\n",
    "## Operaciones con vectores\n",
    "\n",
    "Longitud o tamaño\n",
    "dot product o inner projection o proyección escalar"
   ]
  },
  {
   "cell_type": "code",
   "execution_count": 1,
   "metadata": {
    "scrolled": true
   },
   "outputs": [
    {
     "data": {
      "image/png": "[encoded data removed]",
      "text/plain": [
       "<Figure size 432x288 with 1 Axes>"
      ]
     },
     "metadata": {
      "needs_background": "light"
     },
     "output_type": "display_data"
    }
   ],
   "source": [
    "import numpy as np\n",
    "import matplotlib.pyplot as plt\n",
    "\n",
    "V = np.array([[0,1], [1,0], [2,3], [-1 ,2]])\n",
    "\n",
    "oriV = np.zeros([2, len(V)])\n",
    "\n",
    "origin = np.array(oriV) # origin point\n",
    "\n",
    "plt.quiver(*origin, V[:,0], V[:,1], color=['black','black', 'r', 'g'], scale=21)\n",
    "plt.show()"
   ]
  },
  {
   "cell_type": "markdown",
   "metadata": {},
   "source": [
    "Los vectores ortogonales y unitarios se les pone ^ encima\n",
    "\n",
    "Con estos vectores podemos expresar los otros dos\n",
    "\n",
    "$$\n",
    "î = v(1,0)\n",
    "$$\n",
    "$$\n",
    "jcon \\^ = v(0,1)\n",
    "$$\n",
    "\n",
    "Los vectores verde y rojo pueden ser expresados como sumas de los vectores unitarios i, j\n",
    "\n",
    "$$\n",
    "rojo = a·i + b·j\n",
    "$$\n",
    "\n",
    "o en forma de vector:\n",
    "\n",
    "$$\n",
    "rojo = \\begin{bmatrix}\n",
    "a\\\\\n",
    "b\n",
    "\\end{bmatrix}\n",
    "$$\n",
    "\n",
    "Usando el teorema de pitágoras podemos calcular su tamaño:\n",
    "\n",
    "$$\n",
    "\\| rojo \\| = \\sqrt{a^2+b^2} \n",
    "$$"
   ]
  },
  {
   "cell_type": "markdown",
   "metadata": {},
   "source": [
    "## Generalizando\n",
    "\n",
    "En ciencia de datos podemos utilizar estos conceptos básicos para cualquier problema que no tenga que ver con el espacio: precios de casas, cualidades de personas, características de coches, etc.\n",
    "\n",
    "__Aunque el número de características sea muy superior a 2__"
   ]
  },
  {
   "cell_type": "markdown",
   "metadata": {},
   "source": [
    "# Producto de vectores\n",
    "\n",
    "Se realiza de la siguiente forma \n",
    "\n",
    "![dot product](imgs/dotproduct.jpg)\n",
    "\n",
    "## Propiedades\n",
    "\n",
    "Tienes la siguientes propiedades:\n",
    "\n",
    "- Conmutativa: (r · s) es lo mismo que (s · r)\n",
    "- Distributiva en adición: r · (s + t) es lo mismo que r·s + r·t\n",
    "- Asociativa en multiplicación por escalar: r · ( a · s ) = ( r · a ) · s\n",
    "\n",
    "Desgranado las operaciones de multiplicación y suma se puede comprobar que estas propiedades se cumplen.\n",
    "\n",
    "__Notación:__ A veces en matemáticas y física los vectores se ponene en __negrita__ o *cursiva* para separarlo de escalares"
   ]
  },
  {
   "cell_type": "markdown",
   "metadata": {},
   "source": [
    "## El tamaño\n",
    "\n",
    "Si multiplicamos un vector por sí mismo...\n",
    "\n",
    "$$\n",
    "r r = r_1 r_1 + r_2 r_2\\newline\n",
    "r r = r_1^2 + r_2^2\\newline\n",
    "r r = \\| r \\|^2\n",
    "$$"
   ]
  },
  {
   "cell_type": "markdown",
   "metadata": {},
   "source": [
    "# Regla del coseno\n",
    "\n",
    "Existe una relación entre el producto y la regla del coseno.\n",
    "\n",
    "![dot product](imgs/dotp_cos.png)\n",
    "\n",
    "De ello y sabiendo cómo funciona el coseno podemos decir que:\n",
    "\n",
    "- Si dos vectores son ortogonales su dotp es 0\n",
    "- Si van en su misma dirección es positivo\n",
    "- Si están en distinta posición son negativos\n",
    "\n",
    "# Vector projection\n",
    "\n",
    "La relación entre dos vectores se puede ver como la projección de una sombra de uno sobre el otro. Ese número scalar indica la longitud de dicha sombra.\n",
    "\n",
    "Después podemos convertirla en un vector, multiplicando ese escalar por el vector sombreado.\n",
    "\n",
    "![vector projection](imgs/vec_projection.png)\n",
    "\n",
    "# Scalar vs Vector projection\n",
    "\n",
    "## Scalar\n",
    "![scalar projection](imgs/scalar-projection.jpg)\n",
    "\n",
    "## Vector\n",
    "![vector projection](imgs/vector-projection.jpg)"
   ]
  },
  {
   "cell_type": "markdown",
   "metadata": {},
   "source": [
    "# Ejercicios\n"
   ]
  },
  {
   "cell_type": "code",
   "execution_count": 14,
   "metadata": {},
   "outputs": [
    {
     "name": "stdout",
     "output_type": "stream",
     "text": [
      "5.0\n",
      "10\n",
      "10\n",
      "Scalar Projection of Vector s on Vector r is:  2.0\n",
      "Projection of Vector s on Vector r is:  [ 1.2 -1.6  0. ]\n"
     ]
    }
   ],
   "source": [
    "# import numpy to perform operations on vector \n",
    "import numpy as np \n",
    "  \n",
    "r = np.array([3, -4, 0])\n",
    "s = np.array([10, 5, -6]) \n",
    "  \n",
    "# Task: Project vector s on vector r\n",
    "  \n",
    "# finding norm of the vector v \n",
    "r_norm = np.sqrt(sum(r**2))     \n",
    "print(r_norm)\n",
    "print(np.dot(s, r))\n",
    "print(np.dot(r, s))\n",
    "\n",
    "# Apply the formula as mentioned above \n",
    "# for projecting a vector onto another vector \n",
    "# find dot product using np.dot() \n",
    "scalar_proj = (np.dot(s, r)/r_norm)\n",
    "proj = (np.dot(s, r)/r_norm**2) * r\n",
    "  \n",
    "print(\"Scalar Projection of Vector s on Vector r is: \", scalar_proj) \n",
    "print(\"Projection of Vector s on Vector r is: \", proj) "
   ]
  },
  {
   "cell_type": "markdown",
   "metadata": {},
   "source": [
    "# Cambios en el marco de referencia\n",
    "\n",
    "A la hora de expresar vectores los hacemos basándonos en los vectores unitarios.\n",
    "\n",
    "![Vector unitario](imgs/vec_unitario.jpg)\n",
    "\n",
    "Pero podemos expresar un vector en base a otros que no sean unitarios.\n",
    "\n",
    "**NOTA:** Si los otros dos vectores son ortogonales el cómputo es muy sencillo, nos podemos basar en el producto escalar (dot product)\n",
    "\n",
    "![Cambio base](imgs/basis-change.png)\n",
    "\n",
    "¿Qué aplicación tienen en ML?\n",
    "\n",
    "Podremos cambiar los vectores base para describir el espacio de los datos."
   ]
  },
  {
   "cell_type": "markdown",
   "metadata": {},
   "source": [
    "# Independencia lineal\n",
    "\n",
    "Una *Base* es un conjunto de vectores que:\n",
    "\n",
    "- No tienen combinación lineal. No se puede expresar uno de ellos con los otros\n",
    "- Generan el espacio de n-dimensiones\n",
    "\n",
    "$$\n",
    "V_3 != V_2 · a + V_1 · b\\newline\n",
    "$$\n",
    "\n",
    "V_3 no está en el plano que genera V_2 y V_1\n",
    "\n",
    "**NOTA:** No tienen que ser de longitud 1\n",
    "**NOTA2:** No tienen que ser ortogonales\n",
    "\n",
    "Pero si lo son facilita mucho el trabajo\n",
    "\n",
    "Si son ortogonales podemos utilizar el producto escalar para cambiar de base"
   ]
  },
  {
   "cell_type": "markdown",
   "metadata": {},
   "source": [
    "# Aplicaciones\n",
    "\n",
    "Podemos coger un conjunto de datos y expresarlos en otra base... esa base puede ser la línea que represente mejor los datos.\n",
    "\n",
    "De esta forma los valores de cada punto serán el **ruido** que hay en los datos sobre esa base y podremos encontrar la mejor línea que minimiza el ruido.\n",
    "\n",
    "![Cambio base aplicación](imgs/app_cambio_base.png)\n",
    "\n",
    "Podría... Cambiar la información de base para encontrar la mejor línea que represente si es una cara, si es un coche, una predicción en unos datos de n dimensiones.\n",
    "\n",
    "\n",
    "## Resumen\n",
    "\n",
    "Los vectores pueden representar:\n",
    "\n",
    "- Dónde estamos en el espacio\n",
    "- Dónde estamos en los datos\n",
    "- Parámetros de una función\n",
    "\n",
    "Hemos revisado las operaciones sobre vectores.\n",
    "\n",
    "- Productos\n",
    "- Cambios de bases"
   ]
  }
 ],
 "metadata": {
  "kernelspec": {
   "display_name": "Python 3",
   "language": "python",
   "name": "python3"
  },
  "language_info": {
   "codemirror_mode": {
    "name": "ipython",
    "version": 3
   },
   "file_extension": ".py",
   "mimetype": "text/x-python",
   "name": "python",
   "nbconvert_exporter": "python",
   "pygments_lexer": "ipython3",
   "version": "3.6.3"
  }
 },
 "nbformat": 4,
 "nbformat_minor": 4
}
